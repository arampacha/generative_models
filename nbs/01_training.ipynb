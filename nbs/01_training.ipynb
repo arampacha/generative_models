{
 "cells": [
  {
   "cell_type": "code",
   "execution_count": null,
   "source": [
    "# default_exp training"
   ],
   "outputs": [],
   "metadata": {}
  },
  {
   "cell_type": "code",
   "execution_count": null,
   "source": [
    "# hide\n",
    "%load_ext autoreload\n",
    "%autoreload 2"
   ],
   "outputs": [],
   "metadata": {}
  },
  {
   "cell_type": "markdown",
   "source": [
    "# Training\n",
    "\n",
    "> Utils for basic training loop."
   ],
   "metadata": {}
  },
  {
   "cell_type": "code",
   "execution_count": null,
   "source": [
    "# export\n",
    "import torch\n",
    "import torch.nn as nn"
   ],
   "outputs": [],
   "metadata": {}
  },
  {
   "cell_type": "code",
   "execution_count": 1,
   "source": [
    "# export\n",
    "class AverageMeter:\n",
    "    \n",
    "    def __init__(self, store_vals=False, store_avgs=False):\n",
    "        self.store_vals = store_vals\n",
    "        self.store_avgs = store_avgs\n",
    "        if store_vals: self.values = []\n",
    "        if store_avgs: self.avgs = []\n",
    "        self.sum, self.n, self.avg = 0, 0, 0\n",
    "        \n",
    "    def update(self, v):\n",
    "        if self.store_vals: self.values.append(v)\n",
    "        self.n += 1\n",
    "        self.avg += (v - self.avg)/self.n\n",
    "        \n",
    "    def reset(self):\n",
    "        if self.store_avgs and self.avg: self.avgs.append(self.avg)\n",
    "        self.sum, self.n, self.avg = 0, 0, 0"
   ],
   "outputs": [],
   "metadata": {}
  },
  {
   "cell_type": "code",
   "execution_count": null,
   "source": [
    "def train_step(batch, model, optimizer, loss_func, scheduler):\n",
    "    xb = batch.to(device)\n",
    "    out = model(xb)\n",
    "\n",
    "    loss, extra = loss_func(out[0], xb, *out[1:])\n",
    "    \n",
    "    loss.backward()\n",
    "    nn.utils.clip_grad_norm_(model.parameters(), 1.)\n",
    "    optimizer.step()\n",
    "    if scheduler is not None:\n",
    "        scheduler.step()\n",
    "    optimizer.zero_grad()\n",
    "    return loss.item(), extra\n"
   ],
   "outputs": [],
   "metadata": {}
  },
  {
   "cell_type": "code",
   "execution_count": null,
   "source": [
    "\n",
    "def eval_step(batch, model, loss_func):\n",
    "    xb = batch.to(device)\n",
    "    with torch.no_grad():\n",
    "        out = model(xb)\n",
    "        loss, extra = loss_func(out[0], xb, *out[1:])\n",
    "    return loss.item(), extra\n"
   ],
   "outputs": [],
   "metadata": {}
  },
  {
   "cell_type": "code",
   "execution_count": null,
   "source": [
    "\n",
    "def fit(n_epoch, model, train_dl, valid_dl, optimizer, loss_func, scheduler=None):\n",
    "    \n",
    "    steps_per_epoch = len(train_dl)\n",
    "    total_steps = n_epoch * steps_per_epoch\n",
    "    train_losses = np.ones((total_steps, 3))\n",
    "    valid_losses = np.ones((n_epoch, 3))\n",
    "    for e in trange(n_epoch):\n",
    "        \n",
    "        model.train()\n",
    "        train_pbar = tqdm(train_dl, leave=False)\n",
    "        for step, batch in enumerate(train_pbar):\n",
    "            total_step = (e*steps_per_epoch)+step\n",
    "            loss, h = train_step(batch, model, optimizer, loss_func, scheduler)\n",
    "            train_losses[total_step, :] = np.array(h)\n",
    "            train_pbar.set_description(f\"{loss:.2f}\")\n",
    "\n",
    "        model.eval()\n",
    "        avg_valid_loss = np.zeros(3)\n",
    "        for step, batch in enumerate(valid_dl):\n",
    "            loss, h = eval_step(batch, model, loss_func)\n",
    "            avg_valid_loss += (np.array(h)-avg_valid_loss) / (step+1)\n",
    "        valid_losses[e, :] = avg_valid_loss\n",
    "    return train_losses, valid_losses"
   ],
   "outputs": [],
   "metadata": {}
  },
  {
   "cell_type": "code",
   "execution_count": null,
   "source": [],
   "outputs": [],
   "metadata": {}
  },
  {
   "cell_type": "code",
   "execution_count": null,
   "source": [],
   "outputs": [],
   "metadata": {}
  },
  {
   "cell_type": "code",
   "execution_count": null,
   "source": [],
   "outputs": [],
   "metadata": {}
  },
  {
   "cell_type": "code",
   "execution_count": null,
   "source": [
    "# hide\n",
    "from nbdev.export import notebook2script; notebook2script()"
   ],
   "outputs": [],
   "metadata": {}
  }
 ],
 "metadata": {
  "kernelspec": {
   "name": "python3",
   "display_name": "Python 3.8.10 64-bit ('torchenv': conda)"
  },
  "language_info": {
   "name": "python",
   "version": "3.8.10",
   "mimetype": "text/x-python",
   "codemirror_mode": {
    "name": "ipython",
    "version": 3
   },
   "pygments_lexer": "ipython3",
   "nbconvert_exporter": "python",
   "file_extension": ".py"
  },
  "interpreter": {
   "hash": "4af15c6377fd3f0f03723b0d6472f0c10dcd7b2afd49a75a2b51cefc0e0a1d19"
  }
 },
 "nbformat": 4,
 "nbformat_minor": 2
}
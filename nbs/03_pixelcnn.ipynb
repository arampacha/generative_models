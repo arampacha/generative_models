{
 "cells": [
  {
   "cell_type": "code",
   "execution_count": 1,
   "source": [
    "# default_exp pixelcnn"
   ],
   "outputs": [],
   "metadata": {}
  },
  {
   "cell_type": "code",
   "execution_count": 2,
   "source": [
    "#hide\n",
    "%load_ext autoreload\n",
    "%autoreload 2"
   ],
   "outputs": [],
   "metadata": {}
  },
  {
   "cell_type": "markdown",
   "source": [
    "# PixelCNN model"
   ],
   "metadata": {}
  },
  {
   "cell_type": "markdown",
   "source": [
    "## Layers"
   ],
   "metadata": {}
  },
  {
   "cell_type": "code",
   "execution_count": 3,
   "source": [
    "# export\n",
    "import torch\n",
    "import torch.nn as nn\n",
    "import torch.nn.functional as F\n",
    "from torch import Tensor\n",
    "\n",
    "from typing import Sequence, Union, Tuple\n",
    "\n",
    "from generative_models.layers import exist, scale, unscale, ChanLayerNorm"
   ],
   "outputs": [],
   "metadata": {}
  },
  {
   "cell_type": "code",
   "execution_count": 4,
   "source": [
    "# hide\n",
    "import matplotlib.pyplot as plt"
   ],
   "outputs": [],
   "metadata": {}
  },
  {
   "cell_type": "code",
   "execution_count": 5,
   "source": [
    "# export\n",
    "class MaskedConv2d(nn.Module):\n",
    "    def __init__(self, c_in, c_out, ks, mask, stride=1, padding=None, d_cond:int=None):\n",
    "        super().__init__()\n",
    "        if padding is None: padding = (ks-1)//2\n",
    "        self.stride, self.padding = stride, padding\n",
    "        self.weight = nn.Parameter(torch.randn(c_out, c_in, ks, ks))\n",
    "        self.bias = nn.Parameter(torch.zeros(c_out))\n",
    "        self.register_buffer('mask', mask[None, None])\n",
    "        nn.init.kaiming_normal_(self.weight)\n",
    "        if d_cond is not None:\n",
    "            self.cond_proj = nn.Linear(d_cond, c_out)\n",
    "        else:\n",
    "            self.cond_proj = None\n",
    "\n",
    "    def forward(self, x, cond=None):\n",
    "        out = F.conv2d(x, self.weight*self.mask, self.bias, self.stride, self.padding)\n",
    "        if exist(self.cond_proj) and exist(cond):\n",
    "            out += self.cond_proj(cond)[..., None, None]\n",
    "        return out"
   ],
   "outputs": [],
   "metadata": {}
  },
  {
   "cell_type": "code",
   "execution_count": 6,
   "source": [
    "# export\n",
    "def make_mask_a(ks:int):\n",
    "    n = ks*ks\n",
    "    mask = torch.arange(n).reshape(ks,ks)\n",
    "    mask = (mask < n//2).float()\n",
    "    return mask\n",
    "\n",
    "def make_mask_b(ks:int):\n",
    "    n = ks*ks\n",
    "    mask = torch.arange(n).reshape(ks,ks)\n",
    "    mask = (mask <= n//2).float()\n",
    "    return mask\n"
   ],
   "outputs": [],
   "metadata": {}
  },
  {
   "cell_type": "code",
   "execution_count": 7,
   "source": [
    "fig, axs = plt.subplots(1,2)\n",
    "axs[0].imshow(make_mask_a(5).numpy())\n",
    "axs[0].set_title(\"Type A mask\")\n",
    "axs[1].imshow(make_mask_b(5).numpy())\n",
    "axs[1].set_title(\"Type B mask\")\n",
    "plt.show()"
   ],
   "outputs": [
    {
     "output_type": "display_data",
     "data": {
      "image/png": "[encoded data removed]",
      "text/plain": [
       "<Figure size 640x480 with 2 Axes>"
      ]
     },
     "metadata": {}
    }
   ],
   "metadata": {}
  },
  {
   "cell_type": "code",
   "execution_count": 8,
   "source": [
    "# export\n",
    "class SimplePixelCNN(nn.Module):\n",
    "    \"Simple PixelCNN\"\n",
    "    def __init__(self, nh:int=64, ks:int=7, n_layers:int=8, d_cond:int=None, size=20):\n",
    "        super().__init__()\n",
    "        layers = []\n",
    "        layers += [MaskedConv2d(1, nh, ks, make_mask_a(ks), d_cond=d_cond), ChanLayerNorm(nh), nn.ReLU()]\n",
    "        for _ in range(n_layers-3):\n",
    "            layers += [MaskedConv2d(nh,nh, ks, make_mask_b(ks), d_cond=d_cond), ChanLayerNorm(nh), nn.ReLU()]\n",
    "        layers += [nn.Conv2d(nh, nh//2, 1), nn.ReLU()]\n",
    "        layers += [nn.Conv2d(nh//2, 1,  1)]\n",
    "        self.layers = nn.ModuleList(layers)\n",
    "\n",
    "    def forward(self, x, cond=None):\n",
    "        for l in self.layers:\n",
    "            if isinstance(l, MaskedConv2d):\n",
    "                x = l(x, cond)\n",
    "            else:\n",
    "                x = l(x)\n",
    "        return x\n",
    "\n",
    "    def sample(self, d:int, n:int=16, cond=None):\n",
    "        \n",
    "        if exist(cond):\n",
    "            if cond.size(0) != n:\n",
    "                print(f\"Number of provided conditional inputs ({cond.size(0)}) should match number of samples ({n})!\")\n",
    "                n = cond.size(0)\n",
    "        \n",
    "        x = torch.ones(n,1,d,d)\n",
    "        for i in range(d):\n",
    "            for j in range(d):\n",
    "                out = self(x, cond)\n",
    "                x[:, :, i, j] = scale((torch.sigmoid(out[:, :, i, j]) > torch.rand(x.size(0),1)).float())\n",
    "        return unscale(x)"
   ],
   "outputs": [],
   "metadata": {}
  },
  {
   "cell_type": "code",
   "execution_count": 12,
   "source": [
    "x = torch.randn(4,1,8,8)\n",
    "model = SimplePixelCNN()\n",
    "out = model(x)\n",
    "assert out.shape == x.shape"
   ],
   "outputs": [],
   "metadata": {}
  },
  {
   "cell_type": "code",
   "execution_count": 14,
   "source": [
    "# slow\n",
    "res = model.sample(n=4, d=8)\n",
    "assert res.shape == (4,1,8,8)"
   ],
   "outputs": [],
   "metadata": {}
  },
  {
   "cell_type": "code",
   "execution_count": 15,
   "source": [
    "# hide\n",
    "c = torch.rand(10)\n",
    "x = torch.randn(4,1,8,8)\n",
    "model = SimplePixelCNN(d_cond=10)\n",
    "out = model(x, c)\n",
    "assert out.shape == x.shape"
   ],
   "outputs": [],
   "metadata": {}
  },
  {
   "cell_type": "code",
   "execution_count": 13,
   "source": [
    "# export\n",
    "class PixelCNNResBlock(nn.Module):\n",
    "\n",
    "    def __init__(self, c_in, c_out, ks, mask, stride=1, padding=None, d_cond:int=None) -> None:\n",
    "        super().__init__()\n",
    "        h = c_out // 2\n",
    "        self.net = nn.ModuleList([\n",
    "            nn.Conv2d(c_in, h, 1),\n",
    "            nn.ReLU(),\n",
    "            MaskedConv2d(h, h, ks, mask, stride, padding, d_cond),\n",
    "            nn.ReLU(),\n",
    "            nn.Conv2d(h, c_out, 1)\n",
    "        ])\n",
    "        self.norm = ChanLayerNorm(c_in)\n",
    "        \n",
    "    def forward(self, x, cond=None):\n",
    "        x = self.norm(x)\n",
    "        res = x\n",
    "        for l in self.net:\n",
    "            if isinstance(l, MaskedConv2d):\n",
    "                res = l(res, cond)\n",
    "            else:\n",
    "                res = l(res)\n",
    "        return x + res"
   ],
   "outputs": [],
   "metadata": {}
  },
  {
   "cell_type": "code",
   "execution_count": 14,
   "source": [
    "x = torch.randn(4,16,8,8)\n",
    "m = PixelCNNResBlock(16, 16, 5, make_mask_b(5))\n",
    "out = m(x)\n",
    "assert out.shape == x.shape"
   ],
   "outputs": [],
   "metadata": {}
  },
  {
   "cell_type": "code",
   "execution_count": 15,
   "source": [
    "# export\n",
    "class PixelCNN(nn.Module):\n",
    "    \"PixelCNN\"\n",
    "    def __init__(self, nh:int=64, ks:int=7, n_layers:int=8, d_cond:int=None, size=20):\n",
    "        super().__init__()\n",
    "        layers = [MaskedConv2d(1, nh, ks, make_mask_a(ks), d_cond=d_cond), ChanLayerNorm(nh), nn.ReLU()]\n",
    "        for _ in range(n_layers-3):\n",
    "            layers += [PixelCNNResBlock(nh,nh, ks, make_mask_b(ks), d_cond=d_cond)]\n",
    "        layers += [nn.Conv2d(nh, nh//2, 1), nn.ReLU()]\n",
    "        layers += [nn.Conv2d(nh//2, 1,  1)]\n",
    "        self.layers = nn.ModuleList(layers)\n",
    "\n",
    "    def forward(self, x, cond=None):\n",
    "        for l in self.layers:\n",
    "            if isinstance(l, MaskedConv2d):\n",
    "                x = l(x, cond)\n",
    "            else:\n",
    "                x = l(x)\n",
    "        return x\n",
    "\n",
    "    def sample(self, d:int, n:int=16, cond=None):\n",
    "        \n",
    "        if exist(cond):\n",
    "            if cond.size(0) != n:\n",
    "                print(f\"Number of provided conditional inputs ({cond.size(0)}) should match number of samples ({n})!\")\n",
    "                n = cond.size(0)\n",
    "        \n",
    "        x = torch.ones(n,1,d,d)\n",
    "        for i in range(d):\n",
    "            for j in range(d):\n",
    "                out = self(x, cond)\n",
    "                x[:, :, i, j] = scale((torch.sigmoid(out[:, :, i, j]) > torch.rand(x.size(0),1)).float())\n",
    "        return unscale(x)"
   ],
   "outputs": [],
   "metadata": {}
  },
  {
   "cell_type": "code",
   "execution_count": 16,
   "source": [
    "#hide\n",
    "from nbdev.export import notebook2script; notebook2script()"
   ],
   "outputs": [
    {
     "output_type": "stream",
     "name": "stdout",
     "text": [
      "Converted 00_layers.ipynb.\n",
      "Converted 01_training.ipynb.\n",
      "Converted 02_made.ipynb.\n",
      "Converted 03_pixelcnn.ipynb.\n",
      "Converted 04_vae.ipynb.\n",
      "Converted 10_experiments.pixelcnn.ipynb.\n",
      "Converted index.ipynb.\n"
     ]
    }
   ],
   "metadata": {}
  },
  {
   "cell_type": "code",
   "execution_count": null,
   "source": [],
   "outputs": [],
   "metadata": {}
  }
 ],
 "metadata": {
  "kernelspec": {
   "name": "python3",
   "display_name": "Python 3.8.10 64-bit ('torchenv': conda)"
  },
  "language_info": {
   "name": "python",
   "version": "3.8.10",
   "mimetype": "text/x-python",
   "codemirror_mode": {
    "name": "ipython",
    "version": 3
   },
   "pygments_lexer": "ipython3",
   "nbconvert_exporter": "python",
   "file_extension": ".py"
  },
  "interpreter": {
   "hash": "4af15c6377fd3f0f03723b0d6472f0c10dcd7b2afd49a75a2b51cefc0e0a1d19"
  }
 },
 "nbformat": 4,
 "nbformat_minor": 2
}
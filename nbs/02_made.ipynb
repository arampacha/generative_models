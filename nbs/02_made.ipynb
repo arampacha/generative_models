{
 "cells": [
  {
   "cell_type": "code",
   "execution_count": 1,
   "source": [
    "# default_exp made"
   ],
   "outputs": [],
   "metadata": {}
  },
  {
   "cell_type": "code",
   "execution_count": 2,
   "source": [
    "#hide\n",
    "%load_ext autoreload\n",
    "%autoreload 2"
   ],
   "outputs": [],
   "metadata": {}
  },
  {
   "cell_type": "markdown",
   "source": [
    "# MADE model\n",
    "\n",
    "> Masked Autoencoder for Distribution Estimation https://arxiv.org/abs/1502.03509."
   ],
   "metadata": {}
  },
  {
   "cell_type": "code",
   "execution_count": 3,
   "source": [
    "# export\n",
    "import torch\n",
    "from torch import nn\n",
    "import torch.nn.functional as F\n",
    "\n",
    "from typing import Sequence"
   ],
   "outputs": [],
   "metadata": {}
  },
  {
   "cell_type": "code",
   "execution_count": 4,
   "source": [
    "# hide\n",
    "import matplotlib.pyplot as plt\n"
   ],
   "outputs": [],
   "metadata": {}
  },
  {
   "cell_type": "code",
   "execution_count": 5,
   "source": [
    "d, k = 2,4\n",
    "m = torch.randint(0, d-1, (k,))\n",
    "i = torch.arange(d)\n",
    "j = torch.arange(k)\n",
    "input_mask = torch.where(m[j][..., None] >= i[None], 1., 0.)\n",
    "input_mask\n",
    "output_mask = torch.where(i[..., None] > m[j][None], 1., 0.)\n",
    "output_mask\n",
    "output_mask @ input_mask\n"
   ],
   "outputs": [
    {
     "output_type": "execute_result",
     "data": {
      "text/plain": [
       "tensor([[0., 0.],\n",
       "        [4., 0.]])"
      ]
     },
     "metadata": {},
     "execution_count": 5
    }
   ],
   "metadata": {}
  },
  {
   "cell_type": "code",
   "execution_count": 6,
   "source": [
    "# export\n",
    "def make_masks(d:int, ks:Sequence):\n",
    "    L = len(ks)\n",
    "    ms = [torch.arange(d)]\n",
    "    masks = []\n",
    "    for l, k in enumerate(ks):\n",
    "        m = torch.randint(min(ms[l]), d-1, (k,))\n",
    "        ms.append(m)\n",
    "        mask = torch.where(ms[l+1][..., None] >= ms[l][None], 1., 0.)\n",
    "        masks.append(mask)\n",
    "    mask = torch.where(ms[0][..., None] > ms[-1][None], 1., 0.)\n",
    "    masks.append(mask)\n",
    "    return masks\n"
   ],
   "outputs": [],
   "metadata": {}
  },
  {
   "cell_type": "code",
   "execution_count": 7,
   "source": [
    "masks = make_masks(2, [4]*3)\n",
    "torch.linalg.multi_dot(masks[::-1]).bool().float()\n",
    "for mask in masks:\n",
    "    print(mask.shape)\n",
    "fig, axs = plt.subplots(1, len(masks))\n",
    "for ax, mask in zip(axs, masks):\n",
    "    ax.matshow(mask)\n",
    "plt.show()\n"
   ],
   "outputs": [
    {
     "output_type": "stream",
     "name": "stdout",
     "text": [
      "torch.Size([4, 2])\n",
      "torch.Size([4, 4])\n",
      "torch.Size([4, 4])\n",
      "torch.Size([2, 4])\n"
     ]
    },
    {
     "output_type": "display_data",
     "data": {
      "image/png": "[encoded data removed]",
      "text/plain": [
       "<Figure size 640x480 with 4 Axes>"
      ]
     },
     "metadata": {}
    }
   ],
   "metadata": {}
  },
  {
   "cell_type": "code",
   "execution_count": 8,
   "source": [
    "# export\n",
    "class MaskedLinear(nn.Module):\n",
    "    \"Masked linear layer\"\n",
    "    def __init__(self, d_in:int, d_out:int, mask=None):\n",
    "        super().__init__()\n",
    "        self.w = nn.Parameter(torch.randn(d_out, d_in))\n",
    "        self.b = nn.Parameter(torch.zeros(d_out))\n",
    "        if mask is None:\n",
    "            mask = torch.ones(d_out, d_in)\n",
    "        else:\n",
    "            assert mask.size() == self.w.size()\n",
    "        self.register_buffer(\"mask\", mask)\n",
    "        torch.nn.init.kaiming_normal_(self.w)\n",
    "\n",
    "    def forward(self, x, mask=None):\n",
    "        if mask is not None:\n",
    "            return F.linear(x, self.w*mask, self.b)\n",
    "        elif self.mask is not None:\n",
    "            return F.linear(x, self.w*self.mask, self.b)\n",
    "        else:\n",
    "            print(\"Using `MaskedLinear` but no mask is provided. Layer acts like nn.Linear\")\n",
    "            return F.linear(x, self.w, self.b)\n",
    "\n",
    "    def set_mask(self, mask:torch.Tensor):\n",
    "        assert mask.size() == self.w.size()\n",
    "        self.mask = mask\n"
   ],
   "outputs": [],
   "metadata": {}
  },
  {
   "cell_type": "code",
   "execution_count": 9,
   "source": [
    "m = MaskedLinear(d,k)\n",
    "m.set_mask(masks[0])\n",
    "m.mask\n",
    "x = torch.rand(5, d)\n",
    "out1 = m(x)\n",
    "\n",
    "x[:, 1] = torch.rand(5)\n",
    "out2 = m(x)\n",
    "assert torch.all(out1 == out2)\n",
    "out2\n"
   ],
   "outputs": [
    {
     "output_type": "execute_result",
     "data": {
      "text/plain": [
       "tensor([[-0.8757, -0.0918,  0.1242,  0.4327],\n",
       "        [-0.8374, -0.0877,  0.1188,  0.4137],\n",
       "        [-0.2710, -0.0284,  0.0385,  0.1339],\n",
       "        [-0.0614, -0.0064,  0.0087,  0.0303],\n",
       "        [-0.5964, -0.0625,  0.0846,  0.2947]], grad_fn=<AddmmBackward>)"
      ]
     },
     "metadata": {},
     "execution_count": 9
    }
   ],
   "metadata": {}
  },
  {
   "cell_type": "code",
   "execution_count": 10,
   "source": [
    "# export\n",
    "class SimpleMADE(nn.Module):\n",
    "\n",
    "    def __init__(self, d_in:int, d_h:int, n_layers:int, add_direct=True):\n",
    "        super().__init__()\n",
    "        dims = [d_in] + [d_h]*n_layers + [d_in]\n",
    "        masks = make_masks(d_in, dims[1:-1])\n",
    "        layers = [MaskedLinear(dims[i], dims[i+1], masks[i]) for i in range(len(masks))]\n",
    "        self.net = nn.Sequential(*layers)\n",
    "        if add_direct:\n",
    "            self.direct = MaskedLinear(d_in, d_in, torch.tril(torch.ones(d_in, d_in), diagonal=-1))\n",
    "        else:\n",
    "            self.direct = None\n",
    "    \n",
    "    def forward(self, x):\n",
    "        out = self.net(x)\n",
    "        if self.direct is not None:\n",
    "            out += self.direct(x)\n",
    "        return out\n",
    "        \n"
   ],
   "outputs": [],
   "metadata": {}
  },
  {
   "cell_type": "code",
   "execution_count": 11,
   "source": [
    "model = SimpleMADE(2, 4, 2, True)\n",
    "model\n",
    "x = torch.rand(5, 2)\n",
    "model(x)"
   ],
   "outputs": [
    {
     "output_type": "execute_result",
     "data": {
      "text/plain": [
       "tensor([[ 0.0000, -0.0571],\n",
       "        [ 0.0000, -0.0635],\n",
       "        [ 0.0000, -0.4485],\n",
       "        [ 0.0000, -0.1129],\n",
       "        [ 0.0000, -0.0245]], grad_fn=<AddBackward0>)"
      ]
     },
     "metadata": {},
     "execution_count": 11
    }
   ],
   "metadata": {}
  },
  {
   "cell_type": "code",
   "execution_count": 12,
   "source": [
    "# hide\n",
    "class MADE(nn.Module):\n",
    "\n",
    "    def __init__(self, d_in:int, d_h:int, n_layers:int, add_direct=True, outs_per_input=1):\n",
    "        super().__init__()\n",
    "        self.outs_per_input = outs_per_input\n",
    "        dims = [d_in] + [d_h]*n_layers + [d_in*outs_per_input]\n",
    "        self.masks = make_masks(d_in, dims[1:-1])\n",
    "        layers = [MaskedLinear(dims[i], dims[i+1], self.masks[i]) for i in range(len(self.masks)-1)]\n",
    "        layers += [MaskedLinear(dims[-2], dims[-1])]\n",
    "        self.layers = nn.ModuleList(layers)\n",
    "        if add_direct:\n",
    "            direct_mask = torch.repeat_interleave(\n",
    "                torch.tril(torch.ones(d_in, d_in), diagonal=-1), outs_per_input, 0\n",
    "            )\n",
    "            self.direct = MaskedLinear(d_in, d_in*outs_per_input, direct_mask)\n",
    "        else:\n",
    "            self.direct = None\n",
    "    \n",
    "    def forward(self, x):\n",
    "        out = x\n",
    "        for layer in self.layers[:-1]:\n",
    "            out = layer(out)\n",
    "        out = self.layers[-1](out, mask=torch.repeat_interleave(self.masks[-1], self.outs_per_input, 0))\n",
    "\n",
    "        if self.direct is not None:\n",
    "            out += self.direct(x)\n",
    "        return out\n"
   ],
   "outputs": [],
   "metadata": {}
  },
  {
   "cell_type": "code",
   "execution_count": 13,
   "source": [
    "# export\n",
    "class MADE(nn.Module):\n",
    "\n",
    "    def __init__(self, d_in:int, d_h:int, n_layers:int, add_direct=True, outs_per_input=1):\n",
    "        super().__init__()\n",
    "        self.outs_per_input = outs_per_input\n",
    "        dims = [d_in] + [d_h]*n_layers + [d_in*outs_per_input]\n",
    "        self.masks = make_masks(d_in, dims[1:-1])\n",
    "        layers = [MaskedLinear(dims[i], dims[i+1], self.masks[i]) for i in range(len(self.masks)-1)]\n",
    "        layers += [MaskedLinear(dims[-2], dims[-1])]\n",
    "        self.layers = nn.ModuleList(layers)\n",
    "        if add_direct:\n",
    "            direct_mask = torch.tril(torch.ones(d_in, d_in), diagonal=-1).repeat(outs_per_input,1)\n",
    "            self.direct = MaskedLinear(d_in, d_in*outs_per_input, direct_mask)\n",
    "        else:\n",
    "            self.direct = None\n",
    "    \n",
    "    def forward(self, x):\n",
    "        out = x\n",
    "        for layer in self.layers[:-1]:\n",
    "            out = layer(out)\n",
    "        out = self.layers[-1](out, mask=self.masks[-1].repeat(self.outs_per_input,1))\n",
    "\n",
    "        if self.direct is not None:\n",
    "            out += self.direct(x)\n",
    "        return out\n"
   ],
   "outputs": [],
   "metadata": {}
  },
  {
   "cell_type": "code",
   "execution_count": 14,
   "source": [
    "x=torch.arange(10).reshape(2,5)\n",
    "x.repeat(1,2)\n",
    "x = torch.rand(5, 2)\n",
    "model = MADE(2, 4, 3, outs_per_input=2)\n",
    "model(x)\n",
    "d_in = 4\n",
    "outs_per_input = 2\n",
    "direct_mask = torch.repeat_interleave(\n",
    "    torch.tril(torch.ones(d_in, d_in), diagonal=-1), outs_per_input, 0\n",
    ")\n",
    "direct = MaskedLinear(d_in, d_in*outs_per_input, direct_mask)\n",
    "direct_mask\n"
   ],
   "outputs": [
    {
     "output_type": "execute_result",
     "data": {
      "text/plain": [
       "tensor([[0., 0., 0., 0.],\n",
       "        [0., 0., 0., 0.],\n",
       "        [1., 0., 0., 0.],\n",
       "        [1., 0., 0., 0.],\n",
       "        [1., 1., 0., 0.],\n",
       "        [1., 1., 0., 0.],\n",
       "        [1., 1., 1., 0.],\n",
       "        [1., 1., 1., 0.]])"
      ]
     },
     "metadata": {},
     "execution_count": 14
    }
   ],
   "metadata": {}
  },
  {
   "cell_type": "code",
   "execution_count": 15,
   "source": [
    "#hide\n",
    "from nbdev.export import notebook2script; notebook2script()"
   ],
   "outputs": [
    {
     "output_type": "stream",
     "name": "stdout",
     "text": [
      "Converted 00_layers.ipynb.\n",
      "Converted 01_training.ipynb.\n",
      "Converted 02_made.ipynb.\n",
      "Converted index.ipynb.\n"
     ]
    }
   ],
   "metadata": {}
  }
 ],
 "metadata": {
  "kernelspec": {
   "name": "python3",
   "display_name": "Python 3.8.10 64-bit ('torchenv': conda)"
  },
  "language_info": {
   "name": "python",
   "version": "3.8.10",
   "mimetype": "text/x-python",
   "codemirror_mode": {
    "name": "ipython",
    "version": 3
   },
   "pygments_lexer": "ipython3",
   "nbconvert_exporter": "python",
   "file_extension": ".py"
  },
  "interpreter": {
   "hash": "4af15c6377fd3f0f03723b0d6472f0c10dcd7b2afd49a75a2b51cefc0e0a1d19"
  }
 },
 "nbformat": 4,
 "nbformat_minor": 2
}